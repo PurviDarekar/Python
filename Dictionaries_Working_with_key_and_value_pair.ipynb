{
  "nbformat": 4,
  "nbformat_minor": 0,
  "metadata": {
    "colab": {
      "provenance": [],
      "authorship_tag": "ABX9TyNCPe3xwdA7bMHAx9aDg97P",
      "include_colab_link": true
    },
    "kernelspec": {
      "name": "python3",
      "display_name": "Python 3"
    },
    "language_info": {
      "name": "python"
    }
  },
  "cells": [
    {
      "cell_type": "markdown",
      "metadata": {
        "id": "view-in-github",
        "colab_type": "text"
      },
      "source": [
        "<a href=\"https://colab.research.google.com/github/PurviDarekar/Python/blob/main/Dictionaries_Working_with_key_and_value_pair.ipynb\" target=\"_parent\"><img src=\"https://colab.research.google.com/assets/colab-badge.svg\" alt=\"Open In Colab\"/></a>"
      ]
    },
    {
      "cell_type": "markdown",
      "source": [
        "Dictionary  \n",
        "Allows you to work with key value pair"
      ],
      "metadata": {
        "id": "yR83D6q3UHqr"
      }
    },
    {
      "cell_type": "code",
      "execution_count": 4,
      "metadata": {
        "id": "53KPZ-Ehy6W1",
        "colab": {
          "base_uri": "https://localhost:8080/"
        },
        "outputId": "e6142888-1900-42ff-ebca-e4a76cd2ef59"
      },
      "outputs": [
        {
          "output_type": "stream",
          "name": "stdout",
          "text": [
            "{'name': 'Purvi', 'age': 25, 'courses': ['Math', 'CompSci']}\n",
            "Purvi\n"
          ]
        }
      ],
      "source": [
        "student = {'name':'Purvi','age':25,'courses':['Math','CompSci']}\n",
        "\n",
        "print(student)\n",
        "# to provide the key as a parameter to get the value\n",
        "print(student['name'])"
      ]
    },
    {
      "cell_type": "markdown",
      "source": [
        "get method"
      ],
      "metadata": {
        "id": "OtpLF-6jZsHV"
      }
    },
    {
      "cell_type": "code",
      "source": [
        "student = {'name':'Purvi','age':25,'courses':['Math','CompSci']}\n",
        "# it is useful to not give error if key does not exist\n",
        "print(student.get('phone')) #phone does not exist\n",
        "\n",
        "#also set the default value as second argument\n",
        "\n",
        "print(student.get('phone','Not Found'))"
      ],
      "metadata": {
        "colab": {
          "base_uri": "https://localhost:8080/"
        },
        "id": "-VgyGfhKWPW8",
        "outputId": "e74eeac4-bbcb-4d6c-c973-9ca44bc5b229"
      },
      "execution_count": 7,
      "outputs": [
        {
          "output_type": "stream",
          "name": "stdout",
          "text": [
            "None\n",
            "Not Found\n"
          ]
        }
      ]
    },
    {
      "cell_type": "markdown",
      "source": [
        "Add new entry to dictionary"
      ],
      "metadata": {
        "id": "aTQTgNfccQCA"
      }
    },
    {
      "cell_type": "code",
      "source": [
        "student = {'name':'Purvi','age':25,'courses':['Math','CompSci']}\n",
        "# add new key value\n",
        "student['phone'] = '555-555-5555'\n",
        "print(student)\n",
        "\n",
        "# if key is already exist then it will alter its value\n",
        "student['name'] = 'Darekar'\n",
        "\n",
        "print(student)"
      ],
      "metadata": {
        "colab": {
          "base_uri": "https://localhost:8080/"
        },
        "id": "tEh0po2FbJra",
        "outputId": "c53f9a90-9c3d-4bd6-ff97-362f67224e8b"
      },
      "execution_count": 10,
      "outputs": [
        {
          "output_type": "stream",
          "name": "stdout",
          "text": [
            "{'name': 'Purvi', 'age': 25, 'courses': ['Math', 'CompSci'], 'phone': '555-555-5555'}\n",
            "{'name': 'Darekar', 'age': 25, 'courses': ['Math', 'CompSci'], 'phone': '555-555-5555'}\n"
          ]
        }
      ]
    },
    {
      "cell_type": "markdown",
      "source": [
        "update multple values"
      ],
      "metadata": {
        "id": "U6qaD965ezXl"
      }
    },
    {
      "cell_type": "markdown",
      "source": [
        "update method"
      ],
      "metadata": {
        "id": "k6pXUTLIsV3i"
      }
    },
    {
      "cell_type": "code",
      "source": [
        "student = {'name':'Purvi','age':25,'courses':['Math','CompSci']}\n",
        "# update all values in one go\n",
        "student.update({'name':'Darekar','age':21,'phone':'666-666-6666'})\n",
        "print(student)"
      ],
      "metadata": {
        "colab": {
          "base_uri": "https://localhost:8080/"
        },
        "id": "-llDCM6lcn8C",
        "outputId": "0aa35f05-ef3f-449b-ea5e-373d82ae33a1"
      },
      "execution_count": 11,
      "outputs": [
        {
          "output_type": "stream",
          "name": "stdout",
          "text": [
            "{'name': 'Darekar', 'age': 21, 'courses': ['Math', 'CompSci'], 'phone': '666-666-6666'}\n"
          ]
        }
      ]
    },
    {
      "cell_type": "markdown",
      "source": [
        "delete any key "
      ],
      "metadata": {
        "id": "A6EL-TqXvHCR"
      }
    },
    {
      "cell_type": "code",
      "source": [
        "student = {'name':'Purvi','age':25,'courses':['Math','CompSci']}\n",
        "#it will delete student age from dic\n",
        "del student['age']\n",
        "print(student)"
      ],
      "metadata": {
        "colab": {
          "base_uri": "https://localhost:8080/"
        },
        "id": "Y7Cc0DrkszWi",
        "outputId": "ee463bbd-cfe4-4504-e470-d5d371b9066a"
      },
      "execution_count": 12,
      "outputs": [
        {
          "output_type": "stream",
          "name": "stdout",
          "text": [
            "{'name': 'Purvi', 'courses': ['Math', 'CompSci']}\n"
          ]
        }
      ]
    },
    {
      "cell_type": "markdown",
      "source": [
        "pop method - delete key"
      ],
      "metadata": {
        "id": "n7BK8DTAv2on"
      }
    },
    {
      "cell_type": "code",
      "source": [
        "student = {'name':'Purvi','age':25,'courses':['Math','CompSci']}\n",
        "# pop removed thr value and store it in value as we can also return the the removed value\n",
        "age = student.pop('age')\n",
        "print(student)\n",
        "# print the popped of val\n",
        "print(age)"
      ],
      "metadata": {
        "colab": {
          "base_uri": "https://localhost:8080/"
        },
        "id": "lVYhoQJDvv10",
        "outputId": "a21e17c3-d846-40e0-feab-6e17be1efe11"
      },
      "execution_count": 14,
      "outputs": [
        {
          "output_type": "stream",
          "name": "stdout",
          "text": [
            "{'name': 'Purvi', 'courses': ['Math', 'CompSci']}\n",
            "25\n"
          ]
        }
      ]
    },
    {
      "cell_type": "markdown",
      "source": [
        "looping throgh all vales in dictnary"
      ],
      "metadata": {
        "id": "0infUcQqxbHC"
      }
    },
    {
      "cell_type": "code",
      "source": [
        "student = {'name':'Purvi','age':25,'courses':['Math','CompSci']}\n",
        "#find the lenght of the student\n",
        "print(len(student))\n",
        "#find the names of all the key\n",
        "print(student.keys())\n",
        "# find all vales \n",
        "print(student.values())\n",
        "# to see all keys and value\n",
        "print(student.items())"
      ],
      "metadata": {
        "colab": {
          "base_uri": "https://localhost:8080/"
        },
        "id": "HBHGNEBvwCnA",
        "outputId": "5e8c461d-d0cd-4a20-fc9d-bb9cdfaeeaac"
      },
      "execution_count": 19,
      "outputs": [
        {
          "output_type": "stream",
          "name": "stdout",
          "text": [
            "3\n",
            "dict_keys(['name', 'age', 'courses'])\n",
            "dict_values(['Purvi', 25, ['Math', 'CompSci']])\n",
            "dict_items([('name', 'Purvi'), ('age', 25), ('courses', ['Math', 'CompSci'])])\n"
          ]
        }
      ]
    },
    {
      "cell_type": "markdown",
      "source": [
        "for loop"
      ],
      "metadata": {
        "id": "VKNxpQiWyjOp"
      }
    },
    {
      "cell_type": "code",
      "source": [
        "student = {'name':'Purvi','age':25,'courses':['Math','CompSci']}\n",
        "for key in student:\n",
        "  print(key)"
      ],
      "metadata": {
        "colab": {
          "base_uri": "https://localhost:8080/"
        },
        "id": "P_0TKFy3xkuS",
        "outputId": "fc2a478d-18df-41bf-e1be-f839039e2a03"
      },
      "execution_count": 20,
      "outputs": [
        {
          "output_type": "stream",
          "name": "stdout",
          "text": [
            "name\n",
            "age\n",
            "courses\n"
          ]
        }
      ]
    },
    {
      "cell_type": "markdown",
      "source": [
        "to print both key and value in for loop"
      ],
      "metadata": {
        "id": "Gj8RNabQyyYj"
      }
    },
    {
      "cell_type": "code",
      "source": [
        "student = {'name':'Purvi','age':25,'courses':['Math','CompSci']}\n",
        "for key,value in student.items(): #add items method\n",
        "  print(key,value) #and print both"
      ],
      "metadata": {
        "colab": {
          "base_uri": "https://localhost:8080/"
        },
        "id": "ROv9cKNXysDs",
        "outputId": "5a7e65a5-82f9-49da-bd66-7dc16694c72e"
      },
      "execution_count": 23,
      "outputs": [
        {
          "output_type": "stream",
          "name": "stdout",
          "text": [
            "name Purvi\n",
            "age 25\n",
            "courses ['Math', 'CompSci']\n"
          ]
        }
      ]
    },
    {
      "cell_type": "code",
      "source": [],
      "metadata": {
        "id": "jGSwaIbyzDTl"
      },
      "execution_count": null,
      "outputs": []
    }
  ]
}