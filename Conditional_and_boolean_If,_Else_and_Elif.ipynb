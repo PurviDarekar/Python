{
  "nbformat": 4,
  "nbformat_minor": 0,
  "metadata": {
    "colab": {
      "provenance": [],
      "authorship_tag": "ABX9TyNWPkCuXorH18rrFcSOL5Pa",
      "include_colab_link": true
    },
    "kernelspec": {
      "name": "python3",
      "display_name": "Python 3"
    },
    "language_info": {
      "name": "python"
    }
  },
  "cells": [
    {
      "cell_type": "markdown",
      "metadata": {
        "id": "view-in-github",
        "colab_type": "text"
      },
      "source": [
        "<a href=\"https://colab.research.google.com/github/PurviDarekar/Python/blob/main/Conditional_and_boolean_If%2C_Else_and_Elif.ipynb\" target=\"_parent\"><img src=\"https://colab.research.google.com/assets/colab-badge.svg\" alt=\"Open In Colab\"/></a>"
      ]
    },
    {
      "cell_type": "markdown",
      "source": [
        "If condition"
      ],
      "metadata": {
        "id": "i0EeEsHKpPLU"
      }
    },
    {
      "cell_type": "code",
      "execution_count": null,
      "metadata": {
        "colab": {
          "base_uri": "https://localhost:8080/"
        },
        "id": "mXSZ4rQUk4WC",
        "outputId": "d25b8ba9-59d4-4b95-c64f-29acc1f6b43e"
      },
      "outputs": [
        {
          "output_type": "stream",
          "name": "stdout",
          "text": [
            "Condiotion is true\n"
          ]
        }
      ],
      "source": [
        "language = 'Python'\n",
        "# == stands for equallity\n",
        "if language == 'Python':\n",
        "  print('Condiotion is true')"
      ]
    },
    {
      "cell_type": "markdown",
      "source": [
        "Else statement"
      ],
      "metadata": {
        "id": "H0BOy65OqMxg"
      }
    },
    {
      "cell_type": "code",
      "source": [
        "language = 'Python'\n",
        "\n",
        "if language == 'Java':\n",
        "  print('Condiotion is true')\n",
        "else:\n",
        "  print('No match')"
      ],
      "metadata": {
        "colab": {
          "base_uri": "https://localhost:8080/"
        },
        "id": "rKp3J5mIpkR4",
        "outputId": "475b4afe-89da-40c0-d7b2-6ba02bf421b5"
      },
      "execution_count": null,
      "outputs": [
        {
          "output_type": "stream",
          "name": "stdout",
          "text": [
            "No match\n"
          ]
        }
      ]
    },
    {
      "cell_type": "markdown",
      "source": [
        "Elif Statement"
      ],
      "metadata": {
        "id": "uIAlVljYtS1J"
      }
    },
    {
      "cell_type": "code",
      "source": [
        "language = 'Python'\n",
        "\n",
        "if language == 'Java':\n",
        "  print('Condiotion is true')\n",
        "elif language == 'Ruby':\n",
        "  print('Condition is true')\n",
        "else:\n",
        "  print('No match')"
      ],
      "metadata": {
        "colab": {
          "base_uri": "https://localhost:8080/"
        },
        "id": "WLJgheoYqdm4",
        "outputId": "73e3abea-ad18-4811-becc-80e36819e4f1"
      },
      "execution_count": null,
      "outputs": [
        {
          "output_type": "stream",
          "name": "stdout",
          "text": [
            "No match\n"
          ]
        }
      ]
    },
    {
      "cell_type": "markdown",
      "source": [
        "Boolean"
      ],
      "metadata": {
        "id": "aX5PUPtwxsoZ"
      }
    },
    {
      "cell_type": "markdown",
      "source": [
        "and operator"
      ],
      "metadata": {
        "id": "GasRJs07zqxJ"
      }
    },
    {
      "cell_type": "code",
      "source": [
        "# for instance we want to access the condition if the user is Admin and logged_in is true\n",
        "\n",
        "user = 'Admin'\n",
        "logged_in = False #True\n",
        "\n",
        "# both conditions must be true\n",
        "if user == 'Admin' and logged_in:\n",
        "  print('Admin page')\n",
        "else:\n",
        "  print('Fake Cred')"
      ],
      "metadata": {
        "colab": {
          "base_uri": "https://localhost:8080/"
        },
        "id": "oeMmguD3tr0p",
        "outputId": "99f47a78-ba63-4848-e283-6811408ff34d"
      },
      "execution_count": null,
      "outputs": [
        {
          "output_type": "stream",
          "name": "stdout",
          "text": [
            "Fake Cred\n"
          ]
        }
      ]
    },
    {
      "cell_type": "markdown",
      "source": [
        "or operator"
      ],
      "metadata": {
        "id": "3XwxahBXzuDo"
      }
    },
    {
      "cell_type": "code",
      "source": [
        "# for instance we want to access the condition if the user is either Admin or logged_in is true\n",
        "\n",
        "user = 'Admin'\n",
        "logged_in = False #True\n",
        "\n",
        "# one condition must be true\n",
        "if user == 'Admin' or logged_in:\n",
        "  print('Admin page')\n",
        "else:\n",
        "  print('Fake Cred')"
      ],
      "metadata": {
        "colab": {
          "base_uri": "https://localhost:8080/"
        },
        "id": "G8qhft3OzYuw",
        "outputId": "12d6481a-46cd-4516-b338-86faad26a229"
      },
      "execution_count": null,
      "outputs": [
        {
          "output_type": "stream",
          "name": "stdout",
          "text": [
            "Admin page\n"
          ]
        }
      ]
    },
    {
      "cell_type": "markdown",
      "source": [
        "not operator"
      ],
      "metadata": {
        "id": "K4Idyroh1WID"
      }
    },
    {
      "cell_type": "code",
      "source": [
        "# not operator  will convert the true to false and vice versa\n",
        "user = 'Admin'\n",
        "logged_in = False #True\n",
        "\n",
        "# if the logged in is false then it will make it true\n",
        "if not logged_in:\n",
        "  print('Please login')\n",
        "else:\n",
        "  print('Welcome')"
      ],
      "metadata": {
        "colab": {
          "base_uri": "https://localhost:8080/"
        },
        "id": "S0Y_byO31N9_",
        "outputId": "a0ebb9da-634e-4624-af62-bcd617dc6c66"
      },
      "execution_count": 1,
      "outputs": [
        {
          "output_type": "stream",
          "name": "stdout",
          "text": [
            "Please login\n"
          ]
        }
      ]
    },
    {
      "cell_type": "markdown",
      "source": [
        "is operator"
      ],
      "metadata": {
        "id": "q2iT4yTHC4S_"
      }
    },
    {
      "cell_type": "markdown",
      "source": [
        "what is the difference between == and is\n",
        "\n",
        "\n",
        "1.   is also check the memory allocation value\n",
        "2.   == only checks the value of variable\n",
        "\n"
      ],
      "metadata": {
        "id": "MDoA6PdxFH83"
      }
    },
    {
      "cell_type": "code",
      "source": [
        "a = [1,2,3]\n",
        "b = [1,2,3]\n",
        "\n",
        "# == operator\n",
        "print( a == b)\n",
        "# is operator\n",
        "print( a is b)\n",
        "\n",
        "''' return false  because a and b both are allocated with different memory \n",
        "whereas it also check the memory'''\n",
        "\n",
        "#check the memory\n",
        "print(id(a))\n",
        "print(id(b))\n",
        "\n",
        "print(id(a) == id(b))"
      ],
      "metadata": {
        "id": "6v7b9U615tb2",
        "colab": {
          "base_uri": "https://localhost:8080/"
        },
        "outputId": "3009959b-7e89-4262-d49a-bd27579a8176"
      },
      "execution_count": 4,
      "outputs": [
        {
          "output_type": "stream",
          "name": "stdout",
          "text": [
            "True\n",
            "False\n",
            "140646862563840\n",
            "140646862566400\n",
            "False\n"
          ]
        }
      ]
    },
    {
      "cell_type": "markdown",
      "source": [
        "some false values\n",
        "\n",
        "\n",
        "1.   False\n",
        "2.   None\n",
        "3.   Zero to any numeric type\n",
        "4. Any empty sequence. For example, '',(),[]\n",
        "5. Any empty mapping, For example, {}\n",
        "\n"
      ],
      "metadata": {
        "id": "l9HWPIumJ7S-"
      }
    },
    {
      "cell_type": "code",
      "source": [
        "condition = False\n",
        "\n",
        "if condition:\n",
        "  print('Evaluated to True')\n",
        "else:\n",
        "  print('Evaluated to False')"
      ],
      "metadata": {
        "colab": {
          "base_uri": "https://localhost:8080/"
        },
        "id": "Pb-8bpwIDQON",
        "outputId": "9f4327c5-8f8e-4712-c5e6-e82e253307d6"
      },
      "execution_count": 5,
      "outputs": [
        {
          "output_type": "stream",
          "name": "stdout",
          "text": [
            "Evaluated to False\n"
          ]
        }
      ]
    },
    {
      "cell_type": "markdown",
      "source": [
        "None"
      ],
      "metadata": {
        "id": "xzHHf4zaNdd0"
      }
    },
    {
      "cell_type": "code",
      "source": [
        "condition = None\n",
        "\n",
        "if condition:\n",
        "  print('Evaluated to True')\n",
        "else:\n",
        "  print('Evaluated to False')"
      ],
      "metadata": {
        "colab": {
          "base_uri": "https://localhost:8080/"
        },
        "id": "ntTFXQFsNbux",
        "outputId": "f550ed0f-bc4a-46b4-ea66-38922d863e3a"
      },
      "execution_count": 6,
      "outputs": [
        {
          "output_type": "stream",
          "name": "stdout",
          "text": [
            "Evaluated to False\n"
          ]
        }
      ]
    },
    {
      "cell_type": "markdown",
      "source": [
        "numberic value - Zero"
      ],
      "metadata": {
        "id": "q6uJqJpyYXVV"
      }
    },
    {
      "cell_type": "code",
      "source": [
        "condition = 0 # if it is any other number than it prints true\n",
        "\n",
        "if condition:\n",
        "  print('Evaluated to True')\n",
        "else:\n",
        "  print('Evaluated to False')"
      ],
      "metadata": {
        "colab": {
          "base_uri": "https://localhost:8080/"
        },
        "id": "p506zsxcYRnB",
        "outputId": "d9b8b884-2be5-4ad9-c6f0-23f38b1f80c4"
      },
      "execution_count": 8,
      "outputs": [
        {
          "output_type": "stream",
          "name": "stdout",
          "text": [
            "Evaluated to False\n"
          ]
        }
      ]
    },
    {
      "cell_type": "code",
      "source": [
        "condition = '' # if the string is empty then it will return false else true\n",
        "\n",
        "if condition:\n",
        "  print('Evaluated to True')\n",
        "else:\n",
        "  print('Evaluated to False')"
      ],
      "metadata": {
        "colab": {
          "base_uri": "https://localhost:8080/"
        },
        "id": "upQ8HqQgYaYZ",
        "outputId": "2ac6c434-0f1f-42d2-eba5-db898a8c80a4"
      },
      "execution_count": 10,
      "outputs": [
        {
          "output_type": "stream",
          "name": "stdout",
          "text": [
            "Evaluated to True\n"
          ]
        }
      ]
    },
    {
      "cell_type": "markdown",
      "source": [
        "empty sequence"
      ],
      "metadata": {
        "id": "raPugs2vf5w4"
      }
    },
    {
      "cell_type": "code",
      "source": [
        "condition = ()\n",
        "\n",
        "if condition:\n",
        "  print('Evaluated to True')\n",
        "else:\n",
        "  print('Evaluated to False')"
      ],
      "metadata": {
        "colab": {
          "base_uri": "https://localhost:8080/"
        },
        "id": "wnndlvAHckoQ",
        "outputId": "6fb773d8-c05f-4a2e-d687-f1dfbde8601c"
      },
      "execution_count": 11,
      "outputs": [
        {
          "output_type": "stream",
          "name": "stdout",
          "text": [
            "Evaluated to False\n"
          ]
        }
      ]
    },
    {
      "cell_type": "markdown",
      "source": [
        "empty mapping"
      ],
      "metadata": {
        "id": "IO9sjN2whw2u"
      }
    },
    {
      "cell_type": "code",
      "source": [
        "condition = {}\n",
        "\n",
        "if condition:\n",
        "  print('Evaluated to True')\n",
        "else:\n",
        "  print('Evaluated to False')"
      ],
      "metadata": {
        "colab": {
          "base_uri": "https://localhost:8080/"
        },
        "id": "xOly4eYtf4wS",
        "outputId": "2a1e7fd6-4802-41bd-fa79-dfa634c5191d"
      },
      "execution_count": 13,
      "outputs": [
        {
          "output_type": "stream",
          "name": "stdout",
          "text": [
            "Evaluated to False\n"
          ]
        }
      ]
    },
    {
      "cell_type": "code",
      "source": [],
      "metadata": {
        "id": "KcFOjMxNh2Bq"
      },
      "execution_count": null,
      "outputs": []
    }
  ]
}