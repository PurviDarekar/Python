{
  "nbformat": 4,
  "nbformat_minor": 0,
  "metadata": {
    "colab": {
      "provenance": [],
      "authorship_tag": "ABX9TyMBn9TTjBRmQ1oLgbukMc+F",
      "include_colab_link": true
    },
    "kernelspec": {
      "name": "python3",
      "display_name": "Python 3"
    },
    "language_info": {
      "name": "python"
    }
  },
  "cells": [
    {
      "cell_type": "markdown",
      "metadata": {
        "id": "view-in-github",
        "colab_type": "text"
      },
      "source": [
        "<a href=\"https://colab.research.google.com/github/PurviDarekar/Python/blob/main/Lists%2C_sets_and_Tuples.ipynb\" target=\"_parent\"><img src=\"https://colab.research.google.com/assets/colab-badge.svg\" alt=\"Open In Colab\"/></a>"
      ]
    },
    {
      "cell_type": "markdown",
      "source": [
        "List"
      ],
      "metadata": {
        "id": "VhuLM-Wza7CB"
      }
    },
    {
      "cell_type": "code",
      "source": [
        "courses = ['History','Maths','Physics','Compi']\n",
        "\n",
        "print(courses)"
      ],
      "metadata": {
        "colab": {
          "base_uri": "https://localhost:8080/"
        },
        "id": "YBjU82yaa9o-",
        "outputId": "da398470-6060-4a2d-8933-539b3d486669"
      },
      "execution_count": null,
      "outputs": [
        {
          "output_type": "stream",
          "name": "stdout",
          "text": [
            "['History', 'Maths', 'Physics', 'Compi']\n"
          ]
        }
      ]
    },
    {
      "cell_type": "markdown",
      "source": [
        "len function "
      ],
      "metadata": {
        "id": "y9-IZ5FFbqst"
      }
    },
    {
      "cell_type": "code",
      "source": [
        "courses = ['History','Maths','Physics','Compi']\n",
        "\n",
        "print(len(courses))"
      ],
      "metadata": {
        "colab": {
          "base_uri": "https://localhost:8080/"
        },
        "id": "J8GG_-WhbKS6",
        "outputId": "f5da4964-7b03-44d8-8758-53f6e167d8d6"
      },
      "execution_count": null,
      "outputs": [
        {
          "output_type": "stream",
          "name": "stdout",
          "text": [
            "4\n"
          ]
        }
      ]
    },
    {
      "cell_type": "markdown",
      "source": [
        "index - location"
      ],
      "metadata": {
        "id": "_BXBT5IsyHmg"
      }
    },
    {
      "cell_type": "code",
      "source": [
        "courses = ['History','Maths','Physics','Compi']\n",
        "# index mention in square brackets (total length - 1 )\n",
        "print(courses[2])\n",
        "\n",
        "# Negative indexing - it will print the last index from the list\n",
        "print(courses[-1])"
      ],
      "metadata": {
        "colab": {
          "base_uri": "https://localhost:8080/"
        },
        "id": "k3NartH9qAEI",
        "outputId": "808882f8-cef9-4b9d-adcd-b30da4a6066a"
      },
      "execution_count": null,
      "outputs": [
        {
          "output_type": "stream",
          "name": "stdout",
          "text": [
            "Physics\n",
            "Compi\n"
          ]
        }
      ]
    },
    {
      "cell_type": "markdown",
      "source": [
        "range"
      ],
      "metadata": {
        "id": "-pE_HYGL8VTH"
      }
    },
    {
      "cell_type": "code",
      "source": [
        "courses = ['History','Maths','Physics','Compi']\n",
        "# specify range - slicing\n",
        "print(courses[0:2]) "
      ],
      "metadata": {
        "colab": {
          "base_uri": "https://localhost:8080/"
        },
        "id": "drnEZNTPzB9w",
        "outputId": "f40f620b-5655-49c1-96a2-670ba8601ecb"
      },
      "execution_count": null,
      "outputs": [
        {
          "output_type": "stream",
          "name": "stdout",
          "text": [
            "['History', 'Maths']\n"
          ]
        }
      ]
    },
    {
      "cell_type": "markdown",
      "source": [
        "list methods - modify list"
      ],
      "metadata": {
        "id": "s3ddBvQ4-sm_"
      }
    },
    {
      "cell_type": "markdown",
      "source": [
        "Append method"
      ],
      "metadata": {
        "id": "NlkuotqsBSc9"
      }
    },
    {
      "cell_type": "code",
      "source": [
        "courses = ['History','Maths','Physics','Compi']\n",
        "# it will add new item at the end \n",
        "courses.append('Art')\n",
        "\n",
        "print(courses)"
      ],
      "metadata": {
        "colab": {
          "base_uri": "https://localhost:8080/"
        },
        "id": "dppU8JGa9FNX",
        "outputId": "37a6563d-4d25-43e7-ac2e-acf81ef674f0"
      },
      "execution_count": null,
      "outputs": [
        {
          "output_type": "stream",
          "name": "stdout",
          "text": [
            "['History', 'Maths', 'Physics', 'Compi', 'Art']\n"
          ]
        }
      ]
    },
    {
      "cell_type": "markdown",
      "source": [
        "insert method"
      ],
      "metadata": {
        "id": "fyU1bPsWBwhv"
      }
    },
    {
      "cell_type": "code",
      "source": [
        "courses = ['History','Maths','Physics','Compi']\n",
        "# to add new item at the specific location - it takes two arguments 1. index and 2. value\n",
        "courses.insert(0,'Chemistry')\n",
        "\n",
        "print(courses)"
      ],
      "metadata": {
        "colab": {
          "base_uri": "https://localhost:8080/"
        },
        "id": "k1EAWQfPBqvY",
        "outputId": "75ada4b6-aef8-49ba-92f1-2ecc57ebcb30"
      },
      "execution_count": null,
      "outputs": [
        {
          "output_type": "stream",
          "name": "stdout",
          "text": [
            "['Chemistry', 'History', 'Maths', 'Physics', 'Compi']\n"
          ]
        }
      ]
    },
    {
      "cell_type": "markdown",
      "source": [
        "extend method"
      ],
      "metadata": {
        "id": "vlXz5eigCUV-"
      }
    },
    {
      "cell_type": "code",
      "source": [
        "courses = ['History','Maths','Physics','Compi']\n",
        "# it will insert multiple values in the list\n",
        "courses_2 = ['DSA','AI']\n",
        "\n",
        "'''# HERE WE ADD THE NEW LIST IN THE PLACE OF SPECIFIED INDEX\n",
        "courses.insert(0, courses_2)\n",
        "#it prints the list within list\n",
        "print(courses)\n",
        "# it provide the value which is at the first place and here it is list\n",
        "print(courses[0])'''\n",
        "\n",
        "\n",
        "#it is not the desired output which we got from insert method so here we use extend to add the values normally in list1\n",
        "courses.extend(courses_2)\n",
        "\n",
        "print(courses)\n",
        "\n",
        "\n",
        "#append is different from extend is also add the list in list"
      ],
      "metadata": {
        "colab": {
          "base_uri": "https://localhost:8080/"
        },
        "id": "sP7EDXxECJl1",
        "outputId": "ae94fbbd-2878-49dc-ec53-81e4e9c9e8d9"
      },
      "execution_count": null,
      "outputs": [
        {
          "output_type": "stream",
          "name": "stdout",
          "text": [
            "['History', 'Maths', 'Physics', 'Compi', 'DSA', 'AI']\n"
          ]
        }
      ]
    },
    {
      "cell_type": "markdown",
      "source": [
        "remove method"
      ],
      "metadata": {
        "id": "rU04i_yxR5pE"
      }
    },
    {
      "cell_type": "code",
      "source": [
        "courses = ['History','Maths','Physics','Compi']\n",
        "# it will reomove the specific item from the list\n",
        "courses.remove('Maths')\n",
        "\n",
        "print(courses)"
      ],
      "metadata": {
        "colab": {
          "base_uri": "https://localhost:8080/"
        },
        "id": "iX4k2SApDMx8",
        "outputId": "e0991cd9-5f7a-4419-e339-19dd665ed2de"
      },
      "execution_count": null,
      "outputs": [
        {
          "output_type": "stream",
          "name": "stdout",
          "text": [
            "['History', 'Physics', 'Compi']\n"
          ]
        }
      ]
    },
    {
      "cell_type": "markdown",
      "source": [
        "pop method - removal"
      ],
      "metadata": {
        "id": "7vy-cAZvS8IH"
      }
    },
    {
      "cell_type": "code",
      "source": [
        "courses = ['History','Maths','Physics','Compi']\n",
        "# by default it will remove the last item\n",
        "\n",
        "# it also return the value of popped item\n",
        "popped = courses.pop()\n",
        "\n",
        "print(courses)\n",
        "print(popped)"
      ],
      "metadata": {
        "colab": {
          "base_uri": "https://localhost:8080/"
        },
        "id": "mBTYg1gMSUkj",
        "outputId": "16ea570c-225e-4944-8e73-4e908dc05591"
      },
      "execution_count": null,
      "outputs": [
        {
          "output_type": "stream",
          "name": "stdout",
          "text": [
            "['History', 'Maths', 'Physics']\n",
            "Compi\n"
          ]
        }
      ]
    },
    {
      "cell_type": "markdown",
      "source": [
        "Sorting List"
      ],
      "metadata": {
        "id": "8cBhwwq6UGmx"
      }
    },
    {
      "cell_type": "markdown",
      "source": [
        "reverse method"
      ],
      "metadata": {
        "id": "BzZJ2qMrUPBo"
      }
    },
    {
      "cell_type": "code",
      "source": [
        "courses = ['History','Maths','Physics','Compi']\n",
        "courses.reverse()\n",
        "print(courses)"
      ],
      "metadata": {
        "colab": {
          "base_uri": "https://localhost:8080/"
        },
        "id": "_mElYweiTR-r",
        "outputId": "a29ddac4-171a-4038-cc0e-f22f06745a7e"
      },
      "execution_count": null,
      "outputs": [
        {
          "output_type": "stream",
          "name": "stdout",
          "text": [
            "['Compi', 'Physics', 'Maths', 'History']\n"
          ]
        }
      ]
    },
    {
      "cell_type": "markdown",
      "source": [
        "sort method"
      ],
      "metadata": {
        "id": "yjv70JsVUae8"
      }
    },
    {
      "cell_type": "code",
      "source": [
        "courses = ['History','Maths','Physics','Compi']\n",
        "nums = [1,6,3,5,4,2]\n",
        "# it sort the values in alphabatical order\n",
        "courses.sort()\n",
        "nums.sort()\n",
        "\n",
        "\n",
        "print(courses)\n",
        "print(nums)\n"
      ],
      "metadata": {
        "colab": {
          "base_uri": "https://localhost:8080/"
        },
        "id": "bdLU3WaHUU6Q",
        "outputId": "8b829b68-d823-4c33-8977-e2eff33962a8"
      },
      "execution_count": null,
      "outputs": [
        {
          "output_type": "stream",
          "name": "stdout",
          "text": [
            "['Compi', 'History', 'Maths', 'Physics']\n",
            "[1, 2, 3, 4, 5, 6]\n"
          ]
        }
      ]
    },
    {
      "cell_type": "code",
      "source": [
        "courses = ['History','Maths','Physics','Compi']\n",
        "\n",
        "#if we want descending order\n",
        "courses.sort(reverse = True)\n",
        "\n",
        "print(courses)"
      ],
      "metadata": {
        "colab": {
          "base_uri": "https://localhost:8080/"
        },
        "id": "unGIbUv8UmOd",
        "outputId": "a77110b0-a2b0-4856-fc33-3276a7996972"
      },
      "execution_count": null,
      "outputs": [
        {
          "output_type": "stream",
          "name": "stdout",
          "text": [
            "['Physics', 'Maths', 'History', 'Compi']\n"
          ]
        }
      ]
    },
    {
      "cell_type": "markdown",
      "source": [
        "sorted function - we want new list without altering existing list"
      ],
      "metadata": {
        "id": "6t5CibsAWzhu"
      }
    },
    {
      "cell_type": "code",
      "source": [
        "courses = ['History','Maths','Physics','Compi']\n",
        "sorted_courses = sorted(courses)\n",
        "print(sorted_courses)"
      ],
      "metadata": {
        "colab": {
          "base_uri": "https://localhost:8080/"
        },
        "id": "alFonAKzWhFQ",
        "outputId": "68805e83-cd6d-4753-fa7a-3a7483cc3efa"
      },
      "execution_count": null,
      "outputs": [
        {
          "output_type": "stream",
          "name": "stdout",
          "text": [
            "['Compi', 'History', 'Maths', 'Physics']\n"
          ]
        }
      ]
    },
    {
      "cell_type": "markdown",
      "source": [
        "min function"
      ],
      "metadata": {
        "id": "0nIvyKz6YpJf"
      }
    },
    {
      "cell_type": "code",
      "source": [
        "num = [1,2,3,4,5]\n",
        "print(min(num))"
      ],
      "metadata": {
        "colab": {
          "base_uri": "https://localhost:8080/"
        },
        "id": "HbNxuWZTXbbq",
        "outputId": "d268dd9d-8728-45f9-dc6a-d405466f0467"
      },
      "execution_count": null,
      "outputs": [
        {
          "output_type": "stream",
          "name": "stdout",
          "text": [
            "1\n"
          ]
        }
      ]
    },
    {
      "cell_type": "markdown",
      "source": [
        "max function"
      ],
      "metadata": {
        "id": "vI2DuFgdY8Yy"
      }
    },
    {
      "cell_type": "code",
      "source": [
        "num = [1,2,3,4,5]\n",
        "print(max(num))"
      ],
      "metadata": {
        "colab": {
          "base_uri": "https://localhost:8080/"
        },
        "id": "4FfKGNRFY7FM",
        "outputId": "e9562311-84a8-4d6d-a8b6-3163f4a672b7"
      },
      "execution_count": null,
      "outputs": [
        {
          "output_type": "stream",
          "name": "stdout",
          "text": [
            "5\n"
          ]
        }
      ]
    },
    {
      "cell_type": "markdown",
      "source": [
        "sum function"
      ],
      "metadata": {
        "id": "FrcTIuUUZZyP"
      }
    },
    {
      "cell_type": "code",
      "source": [
        "num = [1,2,3,4,5]\n",
        "print(sum(num))"
      ],
      "metadata": {
        "colab": {
          "base_uri": "https://localhost:8080/"
        },
        "id": "TbUOzlpuZQeH",
        "outputId": "730cd27a-58f1-4528-805d-6e1da220ee41"
      },
      "execution_count": null,
      "outputs": [
        {
          "output_type": "stream",
          "name": "stdout",
          "text": [
            "15\n"
          ]
        }
      ]
    },
    {
      "cell_type": "markdown",
      "source": [
        "index method"
      ],
      "metadata": {
        "id": "ixZsrUymZnLp"
      }
    },
    {
      "cell_type": "code",
      "source": [
        "courses = ['History','Maths','Physics','Compi']\n",
        "# find the index of the value\n",
        "print(courses.index('Compi'))"
      ],
      "metadata": {
        "colab": {
          "base_uri": "https://localhost:8080/"
        },
        "id": "wa48SGl_ZXHJ",
        "outputId": "6b4cb08d-95b2-4c98-d4a4-4cae4f414e2f"
      },
      "execution_count": null,
      "outputs": [
        {
          "output_type": "stream",
          "name": "stdout",
          "text": [
            "3\n"
          ]
        }
      ]
    },
    {
      "cell_type": "markdown",
      "source": [
        "in Operation"
      ],
      "metadata": {
        "id": "v1h2L-YBZ_gT"
      }
    },
    {
      "cell_type": "code",
      "source": [
        "courses = ['History','Maths','Physics','Compi']\n",
        "# find the value in the list and it will return the boolean value\n",
        "print('Art' in courses)\n",
        "print('Maths' in courses)"
      ],
      "metadata": {
        "colab": {
          "base_uri": "https://localhost:8080/"
        },
        "id": "EGoEia23ZwKx",
        "outputId": "96271153-fc1d-42df-cb90-d1d9b5235625"
      },
      "execution_count": null,
      "outputs": [
        {
          "output_type": "stream",
          "name": "stdout",
          "text": [
            "False\n",
            "True\n"
          ]
        }
      ]
    },
    {
      "cell_type": "markdown",
      "source": [
        "looping values"
      ],
      "metadata": {
        "id": "R8xpIo3LcD62"
      }
    },
    {
      "cell_type": "markdown",
      "source": [
        "for loop item"
      ],
      "metadata": {
        "id": "UY3UUHX0_tpw"
      }
    },
    {
      "cell_type": "code",
      "source": [
        "courses = ['History','Maths','Physics','Compi']\n",
        "\n",
        "for item in courses:\n",
        "  print(item)\n",
        "\n"
      ],
      "metadata": {
        "id": "Ln-L4SybbQDj",
        "colab": {
          "base_uri": "https://localhost:8080/"
        },
        "outputId": "968a0494-9762-4b3f-9c9b-2b1ed794e948"
      },
      "execution_count": null,
      "outputs": [
        {
          "output_type": "stream",
          "name": "stdout",
          "text": [
            "History\n",
            "Maths\n",
            "Physics\n",
            "Compi\n"
          ]
        }
      ]
    },
    {
      "cell_type": "markdown",
      "source": [
        "enumrate function"
      ],
      "metadata": {
        "id": "GpSmd1XSBbbJ"
      }
    },
    {
      "cell_type": "code",
      "source": [
        "courses = ['History','Maths','Physics','Compi']\n",
        "\n",
        "# it will provide the the course with the index number\n",
        "for course in enumerate(courses):\n",
        "  print(course)\n"
      ],
      "metadata": {
        "colab": {
          "base_uri": "https://localhost:8080/"
        },
        "id": "ykEeK4VYApa4",
        "outputId": "cdd7ae97-4dfe-4934-8eff-cf55203b0d5d"
      },
      "execution_count": null,
      "outputs": [
        {
          "output_type": "stream",
          "name": "stdout",
          "text": [
            "(0, 'History')\n",
            "(1, 'Maths')\n",
            "(2, 'Physics')\n",
            "(3, 'Compi')\n"
          ]
        }
      ]
    },
    {
      "cell_type": "code",
      "source": [
        "courses = ['History','Maths','Physics','Compi']\n",
        "\n",
        "# it will provide the the course with the index number and here the start will give tell where to start indexing\n",
        "for index,course in enumerate(courses, start = 1):\n",
        "  print(index,course)\n"
      ],
      "metadata": {
        "colab": {
          "base_uri": "https://localhost:8080/"
        },
        "id": "Nzq1xGblCavy",
        "outputId": "fc1a6597-5c79-4b90-f7be-17a464d1a026"
      },
      "execution_count": null,
      "outputs": [
        {
          "output_type": "stream",
          "name": "stdout",
          "text": [
            "1 History\n",
            "2 Maths\n",
            "3 Physics\n",
            "4 Compi\n"
          ]
        }
      ]
    },
    {
      "cell_type": "markdown",
      "source": [
        "Join method"
      ],
      "metadata": {
        "id": "uwvMdgmGEEMi"
      }
    },
    {
      "cell_type": "markdown",
      "source": [
        "list to string"
      ],
      "metadata": {
        "id": "gg6CuTfQ3cpR"
      }
    },
    {
      "cell_type": "code",
      "source": [
        "courses = ['History','Maths','Physics','Compi']\n",
        "\n",
        "course_str = ', '.join(courses)\n",
        "# it will provide the the course with comma seperation\n",
        "print(course_str)\n"
      ],
      "metadata": {
        "colab": {
          "base_uri": "https://localhost:8080/"
        },
        "id": "FJdft3HEDBaN",
        "outputId": "4245edf1-e1ea-4646-9ebe-10e48607547a"
      },
      "execution_count": null,
      "outputs": [
        {
          "output_type": "stream",
          "name": "stdout",
          "text": [
            "History, Maths, Physics, Compi\n"
          ]
        }
      ]
    },
    {
      "cell_type": "markdown",
      "source": [
        "split funtion"
      ],
      "metadata": {
        "id": "_7VoQQ0V3e83"
      }
    },
    {
      "cell_type": "markdown",
      "source": [
        "string to list"
      ],
      "metadata": {
        "id": "iU_sROdK3hhf"
      }
    },
    {
      "cell_type": "code",
      "source": [
        "courses = ['History','Maths','Physics','Compi']\n",
        "\n",
        "course_str = ' - '.join(courses)\n",
        "# split all value which contain space dash space and make the new list\n",
        "new_list = course_str.split(' - ')\n",
        "# it will provide the the course with comma seperation\n",
        "print(course_str)\n",
        "print(new_list)"
      ],
      "metadata": {
        "id": "sz4gr5jnEm4c",
        "colab": {
          "base_uri": "https://localhost:8080/"
        },
        "outputId": "75bc6e9d-161c-4be4-a01c-e74cbc73a4a3"
      },
      "execution_count": 1,
      "outputs": [
        {
          "output_type": "stream",
          "name": "stdout",
          "text": [
            "History - Maths - Physics - Compi\n",
            "['History', 'Maths', 'Physics', 'Compi']\n"
          ]
        }
      ]
    },
    {
      "cell_type": "markdown",
      "source": [
        "Tuples"
      ],
      "metadata": {
        "id": "x7Yyxru_4QPg"
      }
    },
    {
      "cell_type": "markdown",
      "source": [
        "what is the difference between tuples and the list\n",
        " - we cant modify tuples (where list are mutable and tuples are immutable)"
      ],
      "metadata": {
        "id": "BbOranJ64TE1"
      }
    },
    {
      "cell_type": "markdown",
      "source": [
        "example - list"
      ],
      "metadata": {
        "id": "zGr06bdj5iX-"
      }
    },
    {
      "cell_type": "code",
      "source": [
        "list_1 =['History', 'Math', 'Physics','CompSci']\n",
        "# here we assign same values to the \n",
        "list_2 = list_1\n",
        "#here it prints the same list value\n",
        "print(list_1)\n",
        "print(list_2)\n",
        "\n",
        "# if we make the change in list_1 item then it will also reflect in list@\n",
        "list_1[0] ='Art' \n",
        "\n",
        "print(list_1)\n",
        "print(list_2)"
      ],
      "metadata": {
        "colab": {
          "base_uri": "https://localhost:8080/"
        },
        "id": "gZG3vap533ot",
        "outputId": "dd8458ca-282c-448d-aa50-e54a044ceaa2"
      },
      "execution_count": 3,
      "outputs": [
        {
          "output_type": "stream",
          "name": "stdout",
          "text": [
            "['History', 'Math', 'Physics', 'CompSci']\n",
            "['History', 'Math', 'Physics', 'CompSci']\n",
            "['Art', 'Math', 'Physics', 'CompSci']\n",
            "['Art', 'Math', 'Physics', 'CompSci']\n"
          ]
        }
      ]
    },
    {
      "cell_type": "markdown",
      "source": [
        "example - tuple"
      ],
      "metadata": {
        "id": "XAHFV3tK91ZG"
      }
    },
    {
      "cell_type": "code",
      "source": [
        "tuple_1 = ('History', 'Math', 'Physics','CompSci')\n",
        "tuple_2 = tuple_1\n",
        "\n",
        "print(tuple_1)\n",
        "print(tuple_2)\n",
        "\n",
        "tuple_1[0] = 'Art' # it will give the type error beacuese we can not modify in tuples\n",
        "\n",
        "print(tuple_1)\n",
        "print(tuple_2)"
      ],
      "metadata": {
        "colab": {
          "base_uri": "https://localhost:8080/",
          "height": 269
        },
        "id": "MpPwD1LJ6ld4",
        "outputId": "da8409fd-1b5c-49a2-86e7-5ee02b2c5f02"
      },
      "execution_count": 7,
      "outputs": [
        {
          "output_type": "stream",
          "name": "stdout",
          "text": [
            "('History', 'Math', 'Physics', 'CompSci')\n",
            "('History', 'Math', 'Physics', 'CompSci')\n"
          ]
        },
        {
          "output_type": "error",
          "ename": "TypeError",
          "evalue": "ignored",
          "traceback": [
            "\u001b[0;31m---------------------------------------------------------------------------\u001b[0m",
            "\u001b[0;31mTypeError\u001b[0m                                 Traceback (most recent call last)",
            "\u001b[0;32m<ipython-input-7-dc69044e7d9e>\u001b[0m in \u001b[0;36m<cell line: 7>\u001b[0;34m()\u001b[0m\n\u001b[1;32m      5\u001b[0m \u001b[0mprint\u001b[0m\u001b[0;34m(\u001b[0m\u001b[0mtuple_2\u001b[0m\u001b[0;34m)\u001b[0m\u001b[0;34m\u001b[0m\u001b[0;34m\u001b[0m\u001b[0m\n\u001b[1;32m      6\u001b[0m \u001b[0;34m\u001b[0m\u001b[0m\n\u001b[0;32m----> 7\u001b[0;31m \u001b[0mtuple_1\u001b[0m\u001b[0;34m[\u001b[0m\u001b[0;36m0\u001b[0m\u001b[0;34m]\u001b[0m \u001b[0;34m=\u001b[0m \u001b[0;34m'Art'\u001b[0m\u001b[0;34m\u001b[0m\u001b[0;34m\u001b[0m\u001b[0m\n\u001b[0m\u001b[1;32m      8\u001b[0m \u001b[0;34m\u001b[0m\u001b[0m\n\u001b[1;32m      9\u001b[0m \u001b[0mprint\u001b[0m\u001b[0;34m(\u001b[0m\u001b[0mtuple_1\u001b[0m\u001b[0;34m)\u001b[0m\u001b[0;34m\u001b[0m\u001b[0;34m\u001b[0m\u001b[0m\n",
            "\u001b[0;31mTypeError\u001b[0m: 'tuple' object does not support item assignment"
          ]
        }
      ]
    },
    {
      "cell_type": "markdown",
      "source": [
        "Sets\n",
        "- Sets are unordered and also have no duplicates"
      ],
      "metadata": {
        "id": "2rXmkucaEkvi"
      }
    },
    {
      "cell_type": "code",
      "source": [
        "# set are defined with curly bracktes\n",
        "cs_course = {'History','Math','Physics','CompSci'}\n",
        "\n",
        "print(cs_course)\n",
        "# if we run this code multiple times then the order in output changes  \n",
        "\n",
        "''' \n",
        "sets don't care about order it is the use case of\n",
        "- remove duplicates\n",
        "- use to test the value is part of set or not (membership test)\n",
        "'''"
      ],
      "metadata": {
        "colab": {
          "base_uri": "https://localhost:8080/"
        },
        "id": "e9UABhudB2Py",
        "outputId": "53738bcf-3aa4-4374-9471-646f97c84e95"
      },
      "execution_count": 10,
      "outputs": [
        {
          "output_type": "stream",
          "name": "stdout",
          "text": [
            "{'CompSci', 'Math', 'Physics', 'History'}\n"
          ]
        }
      ]
    },
    {
      "cell_type": "markdown",
      "source": [
        "duplicate value removal - sets"
      ],
      "metadata": {
        "id": "FQwNOh7NGM1O"
      }
    },
    {
      "cell_type": "code",
      "source": [
        "cs_course = {'History','Math','Physics','CompSci','Math'}\n",
        "\n",
        "print(cs_course)"
      ],
      "metadata": {
        "colab": {
          "base_uri": "https://localhost:8080/"
        },
        "id": "HuYaLWVBFixF",
        "outputId": "f42ca38f-b397-4bb1-f082-ecca10d1f6bd"
      },
      "execution_count": 11,
      "outputs": [
        {
          "output_type": "stream",
          "name": "stdout",
          "text": [
            "{'CompSci', 'Math', 'Physics', 'History'}\n"
          ]
        }
      ]
    },
    {
      "cell_type": "code",
      "source": [
        "cs_course = {'History','Math','Physics','CompSci','Math'}\n",
        "\n",
        "print('Math' in cs_course)"
      ],
      "metadata": {
        "colab": {
          "base_uri": "https://localhost:8080/"
        },
        "id": "UBIgJhX5GikT",
        "outputId": "0702586a-a547-4d7a-b878-3f5ec3f98468"
      },
      "execution_count": 12,
      "outputs": [
        {
          "output_type": "stream",
          "name": "stdout",
          "text": [
            "True\n"
          ]
        }
      ]
    },
    {
      "cell_type": "markdown",
      "source": [
        "intersection function"
      ],
      "metadata": {
        "id": "2RKNSBcmr1MF"
      }
    },
    {
      "cell_type": "code",
      "source": [
        "cs_course = {'History','Math','Physics','CompSci','Math'}\n",
        "art_courses = {'History','Math','Art','Design'}\n",
        "# to see what courses these two sets have in common\n",
        "\n",
        "print(cs_course.intersection(art_courses))"
      ],
      "metadata": {
        "colab": {
          "base_uri": "https://localhost:8080/"
        },
        "id": "DArO6vNDHBNE",
        "outputId": "fecfe66a-9c97-4e2e-cf38-aa277f2c4c9d"
      },
      "execution_count": 13,
      "outputs": [
        {
          "output_type": "stream",
          "name": "stdout",
          "text": [
            "{'Math', 'History'}\n"
          ]
        }
      ]
    },
    {
      "cell_type": "markdown",
      "source": [
        "Difference method"
      ],
      "metadata": {
        "id": "JX9_onoMsCYa"
      }
    },
    {
      "cell_type": "code",
      "source": [
        "cs_course = {'History','Math','Physics','CompSci','Math'}\n",
        "art_courses = {'History','Math','Art','Design'}\n",
        "# to see what courses these two sets have not in common\n",
        "\n",
        "print(cs_course.difference(art_courses))"
      ],
      "metadata": {
        "colab": {
          "base_uri": "https://localhost:8080/"
        },
        "id": "XNgrJmDDr-5M",
        "outputId": "50e3f0b1-9c01-432c-bdd8-7b33dd3c88a9"
      },
      "execution_count": 14,
      "outputs": [
        {
          "output_type": "stream",
          "name": "stdout",
          "text": [
            "{'CompSci', 'Physics'}\n"
          ]
        }
      ]
    },
    {
      "cell_type": "markdown",
      "source": [
        "Union method"
      ],
      "metadata": {
        "id": "_z7avTdYsZmL"
      }
    },
    {
      "cell_type": "code",
      "source": [
        "cs_course = {'History','Math','Physics','CompSci','Math'}\n",
        "art_courses = {'History','Math','Art','Design'}\n",
        "# to see all courses \n",
        "\n",
        "print(cs_course.union(art_courses))"
      ],
      "metadata": {
        "colab": {
          "base_uri": "https://localhost:8080/"
        },
        "id": "gKzqqNfjsR7R",
        "outputId": "45482596-21eb-4426-8719-39ebf494f96a"
      },
      "execution_count": 15,
      "outputs": [
        {
          "output_type": "stream",
          "name": "stdout",
          "text": [
            "{'Art', 'History', 'Math', 'Design', 'CompSci', 'Physics'}\n"
          ]
        }
      ]
    },
    {
      "cell_type": "markdown",
      "source": [
        "Create Empty list"
      ],
      "metadata": {
        "id": "dwHgv57fsyZ_"
      }
    },
    {
      "cell_type": "code",
      "source": [
        "empty_list = []\n",
        "empty_list = list() #alternative"
      ],
      "metadata": {
        "id": "FmWF5JWwsl_3"
      },
      "execution_count": 16,
      "outputs": []
    },
    {
      "cell_type": "markdown",
      "source": [
        "Create Empty Tuples"
      ],
      "metadata": {
        "id": "qeUL4nsUs_1G"
      }
    },
    {
      "cell_type": "code",
      "source": [
        "empty_tuples = ()\n",
        "empty_tuple = tuple() #alternative"
      ],
      "metadata": {
        "id": "XBwZDRYjs-MW"
      },
      "execution_count": 17,
      "outputs": []
    },
    {
      "cell_type": "markdown",
      "source": [
        "Create Empty sets"
      ],
      "metadata": {
        "id": "GRUHClVotZdN"
      }
    },
    {
      "cell_type": "code",
      "source": [
        "empty_set = {} # this is not right to create empty set it will create dict\n",
        "empty_set = set() #alternative"
      ],
      "metadata": {
        "id": "-hlAyKCatL8s"
      },
      "execution_count": 18,
      "outputs": []
    },
    {
      "cell_type": "code",
      "source": [],
      "metadata": {
        "id": "xfLNZzkztYjY"
      },
      "execution_count": null,
      "outputs": []
    }
  ]
}