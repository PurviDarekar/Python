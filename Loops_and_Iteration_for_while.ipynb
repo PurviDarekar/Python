{
  "nbformat": 4,
  "nbformat_minor": 0,
  "metadata": {
    "colab": {
      "provenance": [],
      "authorship_tag": "ABX9TyPFdJsYonpgLQoZn9sf4ohG",
      "include_colab_link": true
    },
    "kernelspec": {
      "name": "python3",
      "display_name": "Python 3"
    },
    "language_info": {
      "name": "python"
    }
  },
  "cells": [
    {
      "cell_type": "markdown",
      "metadata": {
        "id": "view-in-github",
        "colab_type": "text"
      },
      "source": [
        "<a href=\"https://colab.research.google.com/github/PurviDarekar/Python/blob/main/Loops_and_Iteration_for_while.ipynb\" target=\"_parent\"><img src=\"https://colab.research.google.com/assets/colab-badge.svg\" alt=\"Open In Colab\"/></a>"
      ]
    },
    {
      "cell_type": "markdown",
      "source": [
        "Looping"
      ],
      "metadata": {
        "id": "5QeIZeDpnqkn"
      }
    },
    {
      "cell_type": "markdown",
      "source": [
        "for loop"
      ],
      "metadata": {
        "id": "u3K6Vq9_2JdA"
      }
    },
    {
      "cell_type": "code",
      "execution_count": 1,
      "metadata": {
        "colab": {
          "base_uri": "https://localhost:8080/"
        },
        "id": "Jyh8_iBzjl_5",
        "outputId": "f0817d53-73ed-4a16-e452-f9100405317b"
      },
      "outputs": [
        {
          "output_type": "stream",
          "name": "stdout",
          "text": [
            "1\n",
            "2\n",
            "3\n",
            "4\n"
          ]
        }
      ],
      "source": [
        "nums = [1,2,3,4]\n",
        "\n",
        "for num in nums:\n",
        "  print(num)"
      ]
    },
    {
      "cell_type": "markdown",
      "source": [
        "Break and continue keyword"
      ],
      "metadata": {
        "id": "4AlrNq3I34WC"
      }
    },
    {
      "cell_type": "markdown",
      "source": [
        "Break - if we find certain value in the loop then we will use break statement to not iterate"
      ],
      "metadata": {
        "id": "65eXBlDK4Kuf"
      }
    },
    {
      "cell_type": "code",
      "source": [
        "nums = [1,2,3,4]\n",
        "\n",
        "#here we use break in the loop which is used to stop iteration if we get the desired num\n",
        "\n",
        "for num in nums:\n",
        "  if num == 3:\n",
        "    print('Found!')\n",
        "    break\n",
        "  print(num)"
      ],
      "metadata": {
        "colab": {
          "base_uri": "https://localhost:8080/"
        },
        "id": "aqiSIZQn3rc0",
        "outputId": "02f17add-fbc0-44fc-e9cd-3923c90b4bd1"
      },
      "execution_count": 2,
      "outputs": [
        {
          "output_type": "stream",
          "name": "stdout",
          "text": [
            "1\n",
            "2\n",
            "Found!\n"
          ]
        }
      ]
    },
    {
      "cell_type": "markdown",
      "source": [
        "continue statement - it will not break the loop it will skip and continue the iteration"
      ],
      "metadata": {
        "id": "iDmW_mocCTQv"
      }
    },
    {
      "cell_type": "code",
      "source": [
        "nums = [1,2,3,4]\n",
        "\n",
        "#here we use continue in the loop which is used to not stop the iteration if we get the desired num\n",
        "\n",
        "for num in nums:\n",
        "  if num == 3:\n",
        "    print('Found!')\n",
        "    continue\n",
        "  print(num)"
      ],
      "metadata": {
        "colab": {
          "base_uri": "https://localhost:8080/"
        },
        "id": "YhQ4-PFU4vUl",
        "outputId": "321b92f5-c85f-4fa3-8660-07e9b0bf5d20"
      },
      "execution_count": 3,
      "outputs": [
        {
          "output_type": "stream",
          "name": "stdout",
          "text": [
            "1\n",
            "2\n",
            "Found!\n",
            "4\n"
          ]
        }
      ]
    },
    {
      "cell_type": "markdown",
      "source": [
        "Loop within the Loop"
      ],
      "metadata": {
        "id": "lENKnXWJDZ-4"
      }
    },
    {
      "cell_type": "code",
      "source": [
        "nums = [1,2,3,4]\n",
        "\n",
        "#here we use break in the loop which is used to stop iteration if we get the desired num\n",
        "\n",
        "for num in nums:\n",
        "  for letter in 'abc':\n",
        "    print(num,letter)\n",
        "\n",
        "'''here the inner loop iterate till the letters ABC so it will print the number '''"
      ],
      "metadata": {
        "colab": {
          "base_uri": "https://localhost:8080/"
        },
        "id": "TXZcpSI5DLkS",
        "outputId": "d615bf71-f2a6-4b9d-d545-cd067e49120b"
      },
      "execution_count": 4,
      "outputs": [
        {
          "output_type": "stream",
          "name": "stdout",
          "text": [
            "1 a\n",
            "1 b\n",
            "1 c\n",
            "2 a\n",
            "2 b\n",
            "2 c\n",
            "3 a\n",
            "3 b\n",
            "3 c\n",
            "4 a\n",
            "4 b\n",
            "4 c\n"
          ]
        }
      ]
    },
    {
      "cell_type": "markdown",
      "source": [
        "range (built-in function)"
      ],
      "metadata": {
        "id": "5WPOEyKBFi-8"
      }
    },
    {
      "cell_type": "code",
      "source": [
        "for i in range(10):\n",
        "  print(i) # it does not include the last value "
      ],
      "metadata": {
        "colab": {
          "base_uri": "https://localhost:8080/"
        },
        "id": "AN2eXLMmEYNN",
        "outputId": "9477e159-c180-4506-c957-b92e65549564"
      },
      "execution_count": 5,
      "outputs": [
        {
          "output_type": "stream",
          "name": "stdout",
          "text": [
            "0\n",
            "1\n",
            "2\n",
            "3\n",
            "4\n",
            "5\n",
            "6\n",
            "7\n",
            "8\n",
            "9\n"
          ]
        }
      ]
    },
    {
      "cell_type": "code",
      "source": [
        "# to include the last value also we can specify the intial as well as the final destination here\n",
        "\n",
        "for i in range(1, 11):\n",
        "  print(i)"
      ],
      "metadata": {
        "colab": {
          "base_uri": "https://localhost:8080/"
        },
        "id": "0DNA3XbqHkC2",
        "outputId": "fdb1dbd0-1ede-4c5d-9bbb-4202cfb784ba"
      },
      "execution_count": 6,
      "outputs": [
        {
          "output_type": "stream",
          "name": "stdout",
          "text": [
            "1\n",
            "2\n",
            "3\n",
            "4\n",
            "5\n",
            "6\n",
            "7\n",
            "8\n",
            "9\n",
            "10\n"
          ]
        }
      ]
    },
    {
      "cell_type": "markdown",
      "source": [
        "while loop"
      ],
      "metadata": {
        "id": "Ou7mrMQDIwCF"
      }
    },
    {
      "cell_type": "code",
      "source": [
        "x = 0\n",
        "\n",
        "while x <10:\n",
        "  print(x)\n",
        "  x +=1 # this the main expression without this the loop will show infinite 0"
      ],
      "metadata": {
        "colab": {
          "base_uri": "https://localhost:8080/"
        },
        "id": "3u9Is1ZaIlnH",
        "outputId": "611e6af1-0a97-4403-a5f9-9a281269a519"
      },
      "execution_count": 10,
      "outputs": [
        {
          "output_type": "stream",
          "name": "stdout",
          "text": [
            "0\n",
            "1\n",
            "2\n",
            "3\n",
            "4\n",
            "5\n",
            "6\n",
            "7\n",
            "8\n",
            "9\n"
          ]
        }
      ]
    },
    {
      "cell_type": "markdown",
      "source": [
        "break statement with while"
      ],
      "metadata": {
        "id": "RuKzKXsKJ6lS"
      }
    },
    {
      "cell_type": "code",
      "source": [
        "x = 0\n",
        "\n",
        "while x <10:\n",
        "  if x == 5:\n",
        "    break\n",
        "  print(x)\n",
        "  x +=1 # this the main expression without this the loop will show infinite 0"
      ],
      "metadata": {
        "colab": {
          "base_uri": "https://localhost:8080/"
        },
        "id": "Iu4jBylLJGha",
        "outputId": "cb34c968-0a9e-40c0-a937-fa6bdd04c0ab"
      },
      "execution_count": 11,
      "outputs": [
        {
          "output_type": "stream",
          "name": "stdout",
          "text": [
            "0\n",
            "1\n",
            "2\n",
            "3\n",
            "4\n"
          ]
        }
      ]
    },
    {
      "cell_type": "markdown",
      "source": [
        "infinte loop - till we get the value or the input"
      ],
      "metadata": {
        "id": "FkEmtPBFMDLh"
      }
    },
    {
      "cell_type": "code",
      "source": [
        "x = 0\n",
        "\n",
        "while True:\n",
        "#  if x == 5: // cmt \n",
        "  #  break //cmt to see the infinite loop\n",
        "  print(x)\n",
        "  x +=1 # this the main expression without this the loop will show infinite\n",
        "\n",
        "  ''' if u ever stuck with the infinite loop in any editor then press ctrl +c '''"
      ],
      "metadata": {
        "colab": {
          "base_uri": "https://localhost:8080/"
        },
        "id": "Du3G6BZbLj3o",
        "outputId": "e4de8b24-3295-4f6f-84fc-1c773c44acd3"
      },
      "execution_count": 12,
      "outputs": [
        {
          "output_type": "stream",
          "name": "stdout",
          "text": [
            "0\n",
            "1\n",
            "2\n",
            "3\n",
            "4\n"
          ]
        }
      ]
    },
    {
      "cell_type": "code",
      "source": [],
      "metadata": {
        "id": "tKjLaVNtMP4b"
      },
      "execution_count": null,
      "outputs": []
    }
  ]
}